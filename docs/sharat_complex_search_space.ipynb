{
 "cells": [
  {
   "cell_type": "code",
   "execution_count": 1,
   "id": "45dddc57",
   "metadata": {},
   "outputs": [
    {
     "name": "stdout",
     "output_type": "stream",
     "text": [
      "device: cuda:0\n",
      "device: cpu\n",
      "device: cuda:0\n",
      "device: cuda:0\n",
      "device: cuda:0\n",
      "device: cuda:0\n"
     ]
    }
   ],
   "source": [
    "from naslib.search_spaces.core.graph import Graph, EdgeData\n",
    "from naslib.search_spaces.core import primitives as ops\n",
    "from naslib.search_spaces.core.primitives import AbstractPrimitive\n",
    "from naslib.optimizers import DARTSOptimizer\n",
    "from naslib.utils import utils, setup_logger, get_config_from_args, set_seed, log_args\n",
    "from torch import nn\n",
    "import torch\n",
    "from IPython.display import clear_output\n",
    "import logging\n",
    "from copy import deepcopy"
   ]
  },
  {
   "cell_type": "code",
   "execution_count": 2,
   "id": "5cbabf78",
   "metadata": {},
   "outputs": [],
   "source": [
    "class DartsSearchSpaceA(Graph):\n",
    "\n",
    "    OPTIMIZER_SCOPE = [\n",
    "        'a_stage_1',\n",
    "        'a_stage_2'\n",
    "    ]\n",
    "\n",
    "    QUERYABLE = False\n",
    "\n",
    "    def __init__(self):\n",
    "        super().__init__()\n",
    "\n",
    "        channels = [(16 * 5 * 5, 120), (120, 84), (84, 10)]\n",
    "        stages = ['a_stage_1', 'a_stage_2', 'a_stage_3']\n",
    "\n",
    "        # cell definition\n",
    "        activation_cell = Graph()\n",
    "        activation_cell.name = 'activation_cell'\n",
    "        activation_cell.add_node(1,node_name=\"input\") # input node\n",
    "        activation_cell.add_node(2,node_name=\"unarry1\") # unarry node 1\n",
    "        activation_cell.add_node(3,node_name=\"unarry2\") # unarry node 2\n",
    "        activation_cell.add_node(4,node_name=\"recombine\") # recombination node\n",
    "        activation_cell.nodes[4]['comb_op']=stack()\n",
    "        activation_cell.add_node(5,node_name=\"ouptut\") # output\n",
    "        activation_cell.add_edges_from([(1, 2, EdgeData({\"edge_name\":\"unary 1\"}))]) # unary op 1\n",
    "        activation_cell.add_edges_from([(1, 3, EdgeData({\"edge_name\":\"unary 2\"}))]) # unary op2\n",
    "        activation_cell.add_edges_from([(2, 4, EdgeData({\"edge_name\":\"identity1\"}))]) # identity\n",
    "        activation_cell.add_edges_from([(3, 4, EdgeData({\"edge_name\":\"identity2\"}))]) # identity\n",
    "        activation_cell.add_edges_from([(4, 5, EdgeData({\"edge_name\":\"binary\"}))]) # binary op\n",
    "\n",
    "        # macroarchitecture definition\n",
    "        self.name = 'makrograph'\n",
    "        self.add_node(1) # input node\n",
    "        self.add_node(2) # CNN+Linear output node\n",
    "        self.add_node(3, subgraph=deepcopy(activation_cell).set_scope('a_stage_1').set_input([2])) # activation node 1\n",
    "        self.add_node(4, subgraph=deepcopy(activation_cell).set_scope('a_stage_2').set_input([3])) # activation node 2\n",
    "        self.nodes[3]['subgraph'].name = self.nodes[3]['subgraph'].scope\n",
    "        self.nodes[4]['subgraph'].name = self.nodes[4]['subgraph'].scope\n",
    "        self.add_node(5) # output node\n",
    "        \n",
    "        self.add_edges_from([(i, i+1, EdgeData()) for i in range(1, 5)])\n",
    "        self.edges[1, 2].set('op',\n",
    "            ops.Sequential(\n",
    "                nn.Conv2d(3, 6, 5),\n",
    "                nn.MaxPool2d(2),\n",
    "                nn.Conv2d(6, 16, 5),\n",
    "                nn.MaxPool2d(2),\n",
    "                nn.Flatten(),\n",
    "                nn.Linear(16*5*5,120)\n",
    "            )) # convolutional edge\n",
    "        \n",
    "        self.edges[3,4].set('op',ops.Sequential(nn.Linear(120,84)))\n",
    "        self.edges[4,5].set('op',ops.Sequential(nn.Linear(84,10), nn.Softmax(dim=1)))\n",
    "\n",
    "        \n",
    "        for stage in stages:\n",
    "            self.update_edges(\n",
    "                update_func=lambda edge: self._set_ops(edge),\n",
    "                scope=stage,\n",
    "                private_edge_data=True,\n",
    "            )\n",
    "\n",
    "    def _set_ops(self, edge):\n",
    "        if \"unary\" in edge.data[\"edge_name\"]:\n",
    "            edge.data.set('op', [ops.Identity(), abs_op(), exp(2), exp(3), sin(), cos(), sign()])\n",
    "        elif \"binary\" in edge.data[\"edge_name\"]:\n",
    "            edge.data.set('op', [add(), sub(), mul(), maximum(), minimum()])\n",
    "        else:\n",
    "            edge.data.set('op', [ops.Identity()])\n"
   ]
  },
  {
   "cell_type": "code",
   "execution_count": 3,
   "id": "baf18ebc",
   "metadata": {},
   "outputs": [],
   "source": [
    "class exp(AbstractPrimitive):\n",
    "    def __init__(self,power):\n",
    "        super().__init__(locals())\n",
    "        self.power=power\n",
    "    \n",
    "    def forward(self,x, edge_data):\n",
    "        return torch.pow(x,self.power)\n",
    "    def get_embedded_ops(self):\n",
    "        return None\n",
    "\n",
    "class sin(AbstractPrimitive):\n",
    "    def __init__(self):\n",
    "        super().__init__(locals())\n",
    "    \n",
    "    def forward(self,x, edge_data):\n",
    "        return torch.sin(x)\n",
    "    def get_embedded_ops(self):\n",
    "        return None\n",
    "    \n",
    "class cos(AbstractPrimitive):\n",
    "    def __init__(self):\n",
    "        super().__init__(locals())\n",
    "    \n",
    "    def forward(self,x, edge_data):\n",
    "        return torch.cos(x)\n",
    "    def get_embedded_ops(self):\n",
    "        return None\n",
    "\n",
    "class abs_op(AbstractPrimitive):\n",
    "    def __init__(self):\n",
    "        super().__init__(locals())\n",
    "    \n",
    "    def forward(self,x, edge_data):\n",
    "        return torch.abs(x)\n",
    "    def get_embedded_ops(self):\n",
    "        return None\n",
    "\n",
    "class sign(AbstractPrimitive):\n",
    "    def __init__(self):\n",
    "        super().__init__(locals())\n",
    "    def forward(self,x, edge_data):\n",
    "        return x*-1\n",
    "    def get_embedded_ops(self):\n",
    "        return None"
   ]
  },
  {
   "cell_type": "code",
   "execution_count": 4,
   "id": "80bb1ca6",
   "metadata": {},
   "outputs": [],
   "source": [
    "class add(AbstractPrimitive):\n",
    "    def __init__(self):\n",
    "        super().__init__(locals())\n",
    "    def forward(self,x, edge_data):\n",
    "        return torch.add(x[0],x[1])\n",
    "    def get_embedded_ops(self):\n",
    "        return None\n",
    "\n",
    "class sub(AbstractPrimitive):\n",
    "    def __init__(self):\n",
    "        super().__init__(locals())\n",
    "    def forward(self,x, edge_data):\n",
    "        return torch.sub(x[0],x[1])\n",
    "    def get_embedded_ops(self):\n",
    "        return None\n",
    "\n",
    "class mul(AbstractPrimitive):\n",
    "    def __init__(self):\n",
    "        super().__init__(locals())\n",
    "    def forward(self,x, edge_data):\n",
    "        return torch.mul(x[0],x[1])\n",
    "    def get_embedded_ops(self):\n",
    "        return None\n",
    "class maximum(AbstractPrimitive):\n",
    "    def __init__(self):\n",
    "        super().__init__(locals())\n",
    "    def forward(self,x, edge_data):\n",
    "        return torch.maximum(x[0],x[1])\n",
    "    def get_embedded_ops(self):\n",
    "        return None\n",
    "class minimum(AbstractPrimitive):\n",
    "    def __init__(self):\n",
    "        super().__init__(locals())\n",
    "    def forward(self,x, edge_data):\n",
    "        return torch.minimum(x[0],x[1])\n",
    "    def get_embedded_ops(self):\n",
    "        return None"
   ]
  },
  {
   "cell_type": "code",
   "execution_count": 5,
   "id": "7b3d0557",
   "metadata": {},
   "outputs": [],
   "source": [
    "class stack():\n",
    "    def __init__(self):\n",
    "        pass\n",
    "    def __call__(self, tensors, edges_data=None):\n",
    "        return torch.stack(tensors)"
   ]
  },
  {
   "cell_type": "code",
   "execution_count": 6,
   "id": "9d6a8467",
   "metadata": {},
   "outputs": [
    {
     "name": "stderr",
     "output_type": "stream",
     "text": [
      "Update function could not be verified. Be cautious with the setting of `private_edge_data` in `update_edges()`\n",
      "Update function could not be verified. Be cautious with the setting of `private_edge_data` in `update_edges()`\n",
      "Update function could not be verified. Be cautious with the setting of `private_edge_data` in `update_edges()`\n"
     ]
    }
   ],
   "source": [
    "search_space = DartsSearchSpaceA() "
   ]
  },
  {
   "cell_type": "code",
   "execution_count": 7,
   "id": "89c98ac6",
   "metadata": {},
   "outputs": [
    {
     "data": {
      "text/plain": [
       "AtlasView({2: private: <{'_final': False, 'op': [Identity(), abs_op(), exp(), exp(), sin(), cos(), sign()], 'edge_name': 'unary 1'}>, shared: <{'_deleted': False}>, 3: private: <{'_final': False, 'op': [Identity(), abs_op(), exp(), exp(), sin(), cos(), sign()], 'edge_name': 'unary 2'}>, shared: <{'_deleted': False}>})"
      ]
     },
     "execution_count": 7,
     "metadata": {},
     "output_type": "execute_result"
    }
   ],
   "source": [
    "search_space.nodes[3][\"subgraph\"][1]"
   ]
  },
  {
   "cell_type": "code",
   "execution_count": 8,
   "id": "f3418ea7",
   "metadata": {},
   "outputs": [],
   "source": [
    "config = utils.get_config_from_args(config_type='nas')\n",
    "config.optimizer = 'darts'"
   ]
  },
  {
   "cell_type": "code",
   "execution_count": 9,
   "id": "6ac4f264",
   "metadata": {},
   "outputs": [
    {
     "name": "stderr",
     "output_type": "stream",
     "text": [
      "Update function could not be verified. Be cautious with the setting of `private_edge_data` in `update_edges()`\n",
      "Update function could not be verified. Be cautious with the setting of `private_edge_data` in `update_edges()`\n"
     ]
    }
   ],
   "source": [
    "optimizer = DARTSOptimizer(config)\n",
    "optimizer.adapt_search_space(search_space)"
   ]
  },
  {
   "cell_type": "code",
   "execution_count": 10,
   "id": "9479b139",
   "metadata": {},
   "outputs": [
    {
     "data": {
      "text/plain": [
       "NodeView((1, 2, 3, 4, 5))"
      ]
     },
     "execution_count": 10,
     "metadata": {},
     "output_type": "execute_result"
    }
   ],
   "source": [
    "optimizer.graph.nodes"
   ]
  },
  {
   "cell_type": "code",
   "execution_count": 11,
   "id": "02d6eae9",
   "metadata": {},
   "outputs": [
    {
     "data": {
      "text/plain": [
       "private: <{'_final': False, 'op': DARTSMixedOp(\n",
       "  (primitive-0): Identity()\n",
       "  (primitive-1): abs_op()\n",
       "  (primitive-2): exp()\n",
       "  (primitive-3): exp()\n",
       "  (primitive-4): sin()\n",
       "  (primitive-5): cos()\n",
       "  (primitive-6): sign()\n",
       "), 'edge_name': 'unary 1'}>, shared: <{'_deleted': False, 'alpha': Parameter containing:\n",
       "tensor([ 0.0004, -0.0006,  0.0009, -0.0019, -0.0016,  0.0011,  0.0006],\n",
       "       requires_grad=True)}>"
      ]
     },
     "execution_count": 11,
     "metadata": {},
     "output_type": "execute_result"
    }
   ],
   "source": [
    "optimizer.graph.nodes[3]['subgraph'].edges[1,2]"
   ]
  },
  {
   "cell_type": "code",
   "execution_count": 12,
   "id": "3e24f56f",
   "metadata": {},
   "outputs": [
    {
     "data": {
      "text/plain": [
       "ParameterList(\n",
       "    (0): Parameter containing: [torch.FloatTensor of size 7]\n",
       "    (1): Parameter containing: [torch.FloatTensor of size 7]\n",
       "    (2): Parameter containing: [torch.FloatTensor of size 1]\n",
       "    (3): Parameter containing: [torch.FloatTensor of size 1]\n",
       "    (4): Parameter containing: [torch.FloatTensor of size 5]\n",
       "    (5): Parameter containing: [torch.FloatTensor of size 7]\n",
       "    (6): Parameter containing: [torch.FloatTensor of size 7]\n",
       "    (7): Parameter containing: [torch.FloatTensor of size 1]\n",
       "    (8): Parameter containing: [torch.FloatTensor of size 1]\n",
       "    (9): Parameter containing: [torch.FloatTensor of size 5]\n",
       ")"
      ]
     },
     "execution_count": 12,
     "metadata": {},
     "output_type": "execute_result"
    }
   ],
   "source": [
    "optimizer.architectural_weights"
   ]
  },
  {
   "cell_type": "code",
   "execution_count": null,
   "id": "f14d1ebe",
   "metadata": {},
   "outputs": [],
   "source": []
  }
 ],
 "metadata": {
  "kernelspec": {
   "display_name": "Python 3 (ipykernel)",
   "language": "python",
   "name": "python3"
  },
  "language_info": {
   "codemirror_mode": {
    "name": "ipython",
    "version": 3
   },
   "file_extension": ".py",
   "mimetype": "text/x-python",
   "name": "python",
   "nbconvert_exporter": "python",
   "pygments_lexer": "ipython3",
   "version": "3.7.13"
  }
 },
 "nbformat": 4,
 "nbformat_minor": 5
}
