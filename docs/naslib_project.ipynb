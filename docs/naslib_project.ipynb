{
 "cells": [
  {
   "cell_type": "code",
   "execution_count": 18,
   "metadata": {},
   "outputs": [],
   "source": [
    "import logging\n",
    "from naslib.defaults.trainer import Trainer\n",
    "from naslib.optimizers import DARTSOptimizer\n",
    "from naslib.search_spaces import DartsSearchSpace\n",
    "from naslib.utils import utils, setup_logger\n",
    "from naslib.search_spaces.core.graph import Graph, EdgeData\n",
    "from naslib.search_spaces.core import primitives as ops\n",
    "from torch import nn"
   ]
  },
  {
   "cell_type": "code",
   "execution_count": 21,
   "metadata": {},
   "outputs": [
    {
     "name": "stderr",
     "output_type": "stream",
     "text": [
      "usage: ipykernel_launcher.py [-h] [--config-file FILE] [--eval-only]\n",
      "                             [--seed SEED] [--resume]\n",
      "                             [--model-path MODEL_PATH]\n",
      "                             [--world-size WORLD_SIZE] [--rank RANK]\n",
      "                             [--gpu GPU] [--dist-url DIST_URL]\n",
      "                             [--dist-backend DIST_BACKEND]\n",
      "                             [--multiprocessing-distributed]\n",
      "                             ...\n",
      "ipykernel_launcher.py: error: unrecognized arguments: --ip=127.0.0.1 --stdin=9003 --control=9001 --hb=9000 --Session.signature_scheme=\"hmac-sha256\" --Session.key=b\"4c1ec925-4650-41b0-8f62-3a52904380c8\" --shell=9002 --transport=\"tcp\" --iopub=9004 --f=/home/robertsj/.local/share/jupyter/runtime/kernel-v2-1611060d8RH7F8FeACA.json\n"
     ]
    },
    {
     "ename": "SystemExit",
     "evalue": "2",
     "output_type": "error",
     "traceback": [
      "An exception has occurred, use %tb to see the full traceback.\n",
      "\u001b[0;31mSystemExit\u001b[0m\u001b[0;31m:\u001b[0m 2\n"
     ]
    },
    {
     "name": "stderr",
     "output_type": "stream",
     "text": [
      "/project/dl2022s/robertsj/miniconda3/envs/naslib_project/lib/python3.7/site-packages/IPython/core/interactiveshell.py:3561: UserWarning: To exit: use 'exit', 'quit', or Ctrl-D.\n",
      "  warn(\"To exit: use 'exit', 'quit', or Ctrl-D.\", stacklevel=1)\n"
     ]
    }
   ],
   "source": [
    "config = utils.get_config_from_args(config_type='nas_predictor')\n",
    "utils.set_seed(config.seed)\n",
    "utils.log_args(config)"
   ]
  },
  {
   "cell_type": "code",
   "execution_count": 20,
   "metadata": {},
   "outputs": [],
   "source": [
    "class DartsSearchSpace(Graph):\n",
    "\n",
    "    OPTIMIZER_SCOPE = [\n",
    "        'a_stage_1',\n",
    "        'a_stage_2', \n",
    "        'a_stage_3'\n",
    "    ]\n",
    "\n",
    "    QUERYABLE = False\n",
    "\n",
    "    def __init__(self):\n",
    "        super().__init__()\n",
    "\n",
    "        # cell definition\n",
    "        activation_cell = Graph()\n",
    "        activation_cell.name = 'activation_cell'\n",
    "        activation_cell.add_node(1) # input node\n",
    "        activation_cell.add_node(2) # intermediate node\n",
    "        activation_cell.add_node(3) # output node\n",
    "        activation_cell.add_edge(1, 2) # mutable intermediate edge\n",
    "        activation_cell.edges[1, 2].set('cell_name', 'activation_cell')\n",
    "        activation_cell.add_edges_from([(2, 3, EdgeData().finalize())]) # immutable output edge\n",
    "  \n",
    "\n",
    "        # macroarchitecture definition\n",
    "        self.name = 'macrograph'\n",
    "        self.add_node(1) # input node\n",
    "        self.add_node(2) # intermediate node\n",
    "        self.add_node(3, subgraph=activation_cell.copy().set_scope('a_stage_1').set_input([2])) # activation node 1\n",
    "        self.add_node(4, subgraph=activation_cell.copy().set_scope('a_stage_2').set_input([3])) # activation node 2\n",
    "        self.add_node(5, subgraph=activation_cell.copy().set_scope('a_stage_3').set_input([4])) # activation node 3\n",
    "        self.add_node(6) # output node\n",
    "        \n",
    "        self.add_edge(1, 2) # convolutional edge\n",
    "        self.edges[1, 2].set('op', [\n",
    "            ops.Sequential(\n",
    "                nn.Conv2d(3, 6, 5),\n",
    "                nn.MaxPool2d(2),\n",
    "                nn.Conv2d(6, 16, 5),\n",
    "                nn.MaxPool2d(2),\n",
    "                nn.Flatten()\n",
    "            )\n",
    "        ]) # convolutional edge\n",
    "        self.add_edges_from([(i, i+1) for i in range(2, 6)]) # identity edges\n",
    "        dims = [(16 * 5 * 5, 120), (120, 84), (84, 10)]\n",
    "        for i, (in_dim, out_dim) in enumerate(dims):\n",
    "            self.update_edges(\n",
    "                update_func=lambda edge: self._set_ops(edge, in_dim, out_dim),\n",
    "                scope=f\"a_stage_{i+1}\",\n",
    "                private_edge_data=True,\n",
    "            )\n",
    "\n",
    "    def _set_ops(self, edge, in_dim, out_dim):\n",
    "        if out_dim != 10:\n",
    "            edge.data.set('op', [\n",
    "                ops.Sequential(nn.Linear(in_dim, out_dim), nn.ReLU()),\n",
    "                ops.Sequential(nn.Linear(in_dim, out_dim), nn.Hardswish()),\n",
    "                ops.Sequential(nn.Linear(in_dim, out_dim), nn.LeakyReLU()),\n",
    "                ops.Sequential(nn.Linear(in_dim, out_dim), nn.Identity())\n",
    "            ], shared=False) # FIXME\n",
    "        else:\n",
    "            edge.data.set('op', [\n",
    "                ops.Sequential(nn.Linear(in_dim, out_dim), nn.Softmax())\n",
    "            ])    "
   ]
  },
  {
   "cell_type": "code",
   "execution_count": 21,
   "metadata": {},
   "outputs": [
    {
     "name": "stderr",
     "output_type": "stream",
     "text": [
      "Update function could not be veryfied. Be cautious with the setting of `private_edge_data` in `update_edges()`\n",
      "Update function could not be veryfied. Be cautious with the setting of `private_edge_data` in `update_edges()`\n",
      "Update function could not be veryfied. Be cautious with the setting of `private_edge_data` in `update_edges()`\n"
     ]
    }
   ],
   "source": [
    "search_space = DartsSearchSpace()"
   ]
  },
  {
   "cell_type": "code",
   "execution_count": null,
   "metadata": {},
   "outputs": [],
   "source": [
    "logger = setup_logger(config.save + \"/log.log\")\n",
    "logger.setLevel(logging.INFO)"
   ]
  },
  {
   "cell_type": "code",
   "execution_count": null,
   "metadata": {},
   "outputs": [],
   "source": [
    "optimizer = DARTSOptimizer(config)\n",
    "optimizer.adapt_search_space(search_space)"
   ]
  },
  {
   "cell_type": "code",
   "execution_count": null,
   "metadata": {},
   "outputs": [],
   "source": [
    "trainer = Trainer(optimizer, config)\n",
    "trainer.search()"
   ]
  },
  {
   "cell_type": "code",
   "execution_count": null,
   "metadata": {},
   "outputs": [],
   "source": [
    "trainer.evaluate()"
   ]
  }
 ],
 "metadata": {
  "kernelspec": {
   "display_name": "NASLib Project",
   "language": "python",
   "name": "naslib_project"
  }
 },
 "nbformat": 4,
 "nbformat_minor": 2
}
